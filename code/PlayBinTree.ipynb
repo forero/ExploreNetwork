{
 "cells": [
  {
   "cell_type": "code",
   "execution_count": 1,
   "metadata": {
    "collapsed": false
   },
   "outputs": [
    {
     "name": "stdout",
     "output_type": "stream",
     "text": [
      "Populating the interactive namespace from numpy and matplotlib\n"
     ]
    }
   ],
   "source": [
    "%pylab inline"
   ]
  },
  {
   "cell_type": "markdown",
   "metadata": {},
   "source": [
    "#Random initial values. Time independent"
   ]
  },
  {
   "cell_type": "code",
   "execution_count": 2,
   "metadata": {
    "collapsed": true
   },
   "outputs": [],
   "source": [
    "n_gen = 12\n",
    "n_root = 2**n_gen\n",
    "n_iterations = 10000\n",
    "final_values = empty((0))\n",
    "for i in range(n_iterations):\n",
    "    init_values = random.random(n_root)\n",
    "    old_values = init_values.copy()\n",
    "    for gen in range(n_gen):\n",
    "        new_values = zeros(n_root/(2**(gen+1)))\n",
    "        even = arange(n_root/(2**(gen+1))) * 2\n",
    "        new_values = old_values[even] + old_values[even+1]\n",
    "        old_values = new_values.copy()\n",
    "    final_values = append(final_values, new_values[0])"
   ]
  },
  {
   "cell_type": "code",
   "execution_count": 3,
   "metadata": {
    "collapsed": false
   },
   "outputs": [
    {
     "name": "stdout",
     "output_type": "stream",
     "text": [
      "18.4189659438\n",
      "18.5448999212\n"
     ]
    },
    {
     "data": {
      "image/png": "[encoded data removed]",
      "text/plain": [
       "<matplotlib.figure.Figure at 0x7f1af992cb90>"
      ]
     },
     "metadata": {},
     "output_type": "display_data"
    }
   ],
   "source": [
    "print final_values.std() # measured value\n",
    "print sqrt(n_root*init_values.std()**2) # expected value\n",
    "a = hist(final_values)"
   ]
  },
  {
   "cell_type": "markdown",
   "metadata": {},
   "source": [
    "#Random initial values. Time evolution. Constant rates"
   ]
  },
  {
   "cell_type": "code",
   "execution_count": 4,
   "metadata": {
    "collapsed": false
   },
   "outputs": [],
   "source": [
    "def my_function(x,time, alpha=1.0):\n",
    "    y = x*exp(-time*alpha)\n",
    "    return y\n",
    "\n",
    "n_gen = 8\n",
    "n_root = 2**n_gen\n",
    "n_iterations = 10000\n",
    "final_values = empty((0))\n",
    "for i in range(n_iterations):\n",
    "    init_values = random.random(n_root)\n",
    "    old_values = init_values.copy()\n",
    "    alpha = 1.0\n",
    "    time = 1.0\n",
    "    for gen in range(n_gen):\n",
    "        new_values = zeros(n_root/(2**(gen+1)))\n",
    "        even = arange(n_root/(2**(gen+1))) * 2\n",
    "        new_values = my_function(old_values[even],time, alpha) + my_function(old_values[even+1],time, alpha)\n",
    "        old_values = new_values.copy()\n",
    "    final_values = append(final_values, new_values[0])"
   ]
  },
  {
   "cell_type": "code",
   "execution_count": 5,
   "metadata": {
    "collapsed": false
   },
   "outputs": [
    {
     "name": "stdout",
     "output_type": "stream",
     "text": [
      "27.9524191254\n",
      "27.4982772995\n"
     ]
    },
    {
     "data": {
      "image/png": "[encoded data removed]",
      "text/plain": [
       "<matplotlib.figure.Figure at 0x7f1af992c9d0>"
      ]
     },
     "metadata": {},
     "output_type": "display_data"
    }
   ],
   "source": [
    "print final_values.mean()/final_values.std() # measured value Signal/Noise\n",
    "print 0.5*n_root/sqrt(n_root*init_values.std()**2) # expected value Signal/Noise\n",
    "a = hist(final_values)"
   ]
  },
  {
   "cell_type": "markdown",
   "metadata": {},
   "source": [
    "#Random initial values. Time evolution. Random rates"
   ]
  },
  {
   "cell_type": "code",
   "execution_count": 6,
   "metadata": {
    "collapsed": false
   },
   "outputs": [],
   "source": [
    "def my_function(x,time, alpha=1.0):\n",
    "    y = x*exp(-time*alpha)\n",
    "    return y\n",
    "\n",
    "n_gen = 8\n",
    "n_root = 2**n_gen\n",
    "n_iterations = 10000\n",
    "final_values = empty((0))\n",
    "for i in range(n_iterations):\n",
    "    init_values = random.random(n_root)\n",
    "    old_values = init_values.copy()\n",
    "    alpha = 1.0\n",
    "    time = 1.0\n",
    "    for gen in range(n_gen):\n",
    "        new_values = zeros(n_root/(2**(gen+1)))\n",
    "        even = arange(n_root/(2**(gen+1))) * 2\n",
    "        alpha_values = random.normal(alpha, 0.1, n_root/(2**(gen+1)))\n",
    "        alpha_values[alpha_values<0.0]= 0.0\n",
    "        new_values = my_function(old_values[even],time, alpha_values) + my_function(old_values[even+1],time, alpha_values)\n",
    "        old_values = new_values.copy()\n",
    "    final_values = append(final_values, new_values[0])"
   ]
  },
  {
   "cell_type": "code",
   "execution_count": 7,
   "metadata": {
    "collapsed": false
   },
   "outputs": [
    {
     "name": "stdout",
     "output_type": "stream",
     "text": [
      "6.94171526537\n",
      "28.5714285714\n"
     ]
    },
    {
     "data": {
      "image/png": "[encoded data removed]",
      "text/plain": [
       "<matplotlib.figure.Figure at 0x7f1af9537e50>"
      ]
     },
     "metadata": {},
     "output_type": "display_data"
    }
   ],
   "source": [
    "print final_values.mean()/final_values.std() # measured value Signal/Noise\n",
    "print 0.5*n_root/sqrt(n_root*0.28**2) # expected value Signal/Noise\n",
    "a = hist(final_values)"
   ]
  }
 ],
 "metadata": {
  "kernelspec": {
   "display_name": "Python 2",
   "language": "python",
   "name": "python2"
  },
  "language_info": {
   "codemirror_mode": {
    "name": "ipython",
    "version": 2
   },
   "file_extension": ".py",
   "mimetype": "text/x-python",
   "name": "python",
   "nbconvert_exporter": "python",
   "pygments_lexer": "ipython2",
   "version": "2.7.10"
  }
 },
 "nbformat": 4,
 "nbformat_minor": 0
}
